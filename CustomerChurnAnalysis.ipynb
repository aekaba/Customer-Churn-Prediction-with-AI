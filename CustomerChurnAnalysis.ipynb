{
  "nbformat": 4,
  "nbformat_minor": 0,
  "metadata": {
    "colab": {
      "provenance": [],
      "gpuType": "A100",
      "machine_shape": "hm",
      "collapsed_sections": [
        "Yx9fT5XE2k-7",
        "4nSoZ1ZI8WxX",
        "ePeR4_RoFrUY",
        "lHf89MryN_Ow",
        "-8qMKN5TKwud"
      ],
      "mount_file_id": "1Sydq-E3sejh_zJZ0IinXh23sx2U-YjtI",
      "authorship_tag": "ABX9TyNA9waE6gRHWB8zZaOjVzJ5",
      "include_colab_link": true
    },
    "kernelspec": {
      "name": "python3",
      "display_name": "Python 3"
    },
    "language_info": {
      "name": "python"
    },
    "accelerator": "GPU"
  },
  "cells": [
    {
      "cell_type": "markdown",
      "metadata": {
        "id": "view-in-github",
        "colab_type": "text"
      },
      "source": [
        "<a href=\"https://colab.research.google.com/github/aekaba/Customer-Churn-Prediction-with-AI/blob/main/CustomerChurnAnalysis.ipynb\" target=\"_parent\"><img src=\"https://colab.research.google.com/assets/colab-badge.svg\" alt=\"Open In Colab\"/></a>"
      ]
    },
    {
      "cell_type": "markdown",
      "source": [
        "# Abonelik Sistemlerinde Müşteri Kaybı Analizi\n",
        "\n"
      ],
      "metadata": {
        "id": "o6PezJeIcy3_"
      }
    },
    {
      "cell_type": "markdown",
      "source": [
        "## Dosya Okuma\n",
        "  datasetimizi drive a kaydetip oradan okuma yapacağız, Train ve Test olarak 2 tane sınıfımız olduğu için bunları birleştireceğiz."
      ],
      "metadata": {
        "id": "-b52Wfb173jf"
      }
    },
    {
      "cell_type": "code",
      "source": [
        "from google.colab import drive\n",
        "drive.mount('/content/drive')"
      ],
      "metadata": {
        "colab": {
          "base_uri": "https://localhost:8080/"
        },
        "id": "tzxnzP5ecXyH",
        "outputId": "21256c2a-9eae-4f17-dded-ae4ec537253e"
      },
      "execution_count": null,
      "outputs": [
        {
          "output_type": "stream",
          "name": "stdout",
          "text": [
            "Drive already mounted at /content/drive; to attempt to forcibly remount, call drive.mount(\"/content/drive\", force_remount=True).\n"
          ]
        }
      ]
    },
    {
      "cell_type": "code",
      "source": [
        "import pandas as pd\n",
        "\n",
        "# Read CSV files into dataframes\n",
        "dfTesting = pd.read_csv('/content/drive/MyDrive/Customer Churn Dataset/customer_churn_dataset-testing-master.csv')\n",
        "dfTraining = pd.read_csv('/content/drive/MyDrive/Customer Churn Dataset/customer_churn_dataset-training-master.csv')\n",
        "\n",
        "mergedDF = pd.merge(dfTesting, dfTraining, how='outer')\n",
        "\n",
        "df = pd.DataFrame(mergedDF)"
      ],
      "metadata": {
        "colab": {
          "base_uri": "https://localhost:8080/"
        },
        "id": "SSwgjmexd1Cl",
        "outputId": "59fc6e9b-ed74-4942-920a-769d6e3d13ab"
      },
      "execution_count": null,
      "outputs": [
        {
          "output_type": "stream",
          "name": "stderr",
          "text": [
            "<ipython-input-4-6df33b7f807d>:7: UserWarning: You are merging on int and float columns where the float values are not equal to their int representation.\n",
            "  mergedDF = pd.merge(dfTesting, dfTraining, how='outer')\n"
          ]
        }
      ]
    },
    {
      "cell_type": "code",
      "source": [
        "print(\"Toplam Satır Sayısı: \",len(df))\n",
        "df.head()"
      ],
      "metadata": {
        "colab": {
          "base_uri": "https://localhost:8080/",
          "height": 261
        },
        "id": "YbbQ0HJKfL46",
        "outputId": "b6129aa0-9dec-4c91-a153-f245f84f3ed1"
      },
      "execution_count": null,
      "outputs": [
        {
          "output_type": "stream",
          "name": "stdout",
          "text": [
            "Toplam Satır Sayısı:  505207\n"
          ]
        },
        {
          "output_type": "execute_result",
          "data": {
            "text/plain": [
              "   CustomerID   Age  Gender  Tenure  Usage Frequency  Support Calls  \\\n",
              "0         1.0  22.0  Female    25.0             14.0            4.0   \n",
              "1         2.0  30.0  Female    39.0             14.0            5.0   \n",
              "2         2.0  41.0  Female    28.0             28.0            7.0   \n",
              "3         3.0  47.0    Male    27.0             10.0            2.0   \n",
              "4         3.0  65.0  Female    49.0              1.0           10.0   \n",
              "\n",
              "   Payment Delay Subscription Type Contract Length  Total Spend  \\\n",
              "0           27.0             Basic         Monthly        598.0   \n",
              "1           18.0          Standard          Annual        932.0   \n",
              "2           13.0          Standard         Monthly        584.0   \n",
              "3           29.0           Premium          Annual        757.0   \n",
              "4            8.0             Basic         Monthly        557.0   \n",
              "\n",
              "   Last Interaction  Churn  \n",
              "0               9.0    1.0  \n",
              "1              17.0    1.0  \n",
              "2              20.0    0.0  \n",
              "3              21.0    0.0  \n",
              "4               6.0    1.0  "
            ],
            "text/html": [
              "\n",
              "  <div id=\"df-975e6c83-0d64-4a9d-b5b9-9013e20e4474\" class=\"colab-df-container\">\n",
              "    <div>\n",
              "<style scoped>\n",
              "    .dataframe tbody tr th:only-of-type {\n",
              "        vertical-align: middle;\n",
              "    }\n",
              "\n",
              "    .dataframe tbody tr th {\n",
              "        vertical-align: top;\n",
              "    }\n",
              "\n",
              "    .dataframe thead th {\n",
              "        text-align: right;\n",
              "    }\n",
              "</style>\n",
              "<table border=\"1\" class=\"dataframe\">\n",
              "  <thead>\n",
              "    <tr style=\"text-align: right;\">\n",
              "      <th></th>\n",
              "      <th>CustomerID</th>\n",
              "      <th>Age</th>\n",
              "      <th>Gender</th>\n",
              "      <th>Tenure</th>\n",
              "      <th>Usage Frequency</th>\n",
              "      <th>Support Calls</th>\n",
              "      <th>Payment Delay</th>\n",
              "      <th>Subscription Type</th>\n",
              "      <th>Contract Length</th>\n",
              "      <th>Total Spend</th>\n",
              "      <th>Last Interaction</th>\n",
              "      <th>Churn</th>\n",
              "    </tr>\n",
              "  </thead>\n",
              "  <tbody>\n",
              "    <tr>\n",
              "      <th>0</th>\n",
              "      <td>1.0</td>\n",
              "      <td>22.0</td>\n",
              "      <td>Female</td>\n",
              "      <td>25.0</td>\n",
              "      <td>14.0</td>\n",
              "      <td>4.0</td>\n",
              "      <td>27.0</td>\n",
              "      <td>Basic</td>\n",
              "      <td>Monthly</td>\n",
              "      <td>598.0</td>\n",
              "      <td>9.0</td>\n",
              "      <td>1.0</td>\n",
              "    </tr>\n",
              "    <tr>\n",
              "      <th>1</th>\n",
              "      <td>2.0</td>\n",
              "      <td>30.0</td>\n",
              "      <td>Female</td>\n",
              "      <td>39.0</td>\n",
              "      <td>14.0</td>\n",
              "      <td>5.0</td>\n",
              "      <td>18.0</td>\n",
              "      <td>Standard</td>\n",
              "      <td>Annual</td>\n",
              "      <td>932.0</td>\n",
              "      <td>17.0</td>\n",
              "      <td>1.0</td>\n",
              "    </tr>\n",
              "    <tr>\n",
              "      <th>2</th>\n",
              "      <td>2.0</td>\n",
              "      <td>41.0</td>\n",
              "      <td>Female</td>\n",
              "      <td>28.0</td>\n",
              "      <td>28.0</td>\n",
              "      <td>7.0</td>\n",
              "      <td>13.0</td>\n",
              "      <td>Standard</td>\n",
              "      <td>Monthly</td>\n",
              "      <td>584.0</td>\n",
              "      <td>20.0</td>\n",
              "      <td>0.0</td>\n",
              "    </tr>\n",
              "    <tr>\n",
              "      <th>3</th>\n",
              "      <td>3.0</td>\n",
              "      <td>47.0</td>\n",
              "      <td>Male</td>\n",
              "      <td>27.0</td>\n",
              "      <td>10.0</td>\n",
              "      <td>2.0</td>\n",
              "      <td>29.0</td>\n",
              "      <td>Premium</td>\n",
              "      <td>Annual</td>\n",
              "      <td>757.0</td>\n",
              "      <td>21.0</td>\n",
              "      <td>0.0</td>\n",
              "    </tr>\n",
              "    <tr>\n",
              "      <th>4</th>\n",
              "      <td>3.0</td>\n",
              "      <td>65.0</td>\n",
              "      <td>Female</td>\n",
              "      <td>49.0</td>\n",
              "      <td>1.0</td>\n",
              "      <td>10.0</td>\n",
              "      <td>8.0</td>\n",
              "      <td>Basic</td>\n",
              "      <td>Monthly</td>\n",
              "      <td>557.0</td>\n",
              "      <td>6.0</td>\n",
              "      <td>1.0</td>\n",
              "    </tr>\n",
              "  </tbody>\n",
              "</table>\n",
              "</div>\n",
              "    <div class=\"colab-df-buttons\">\n",
              "\n",
              "  <div class=\"colab-df-container\">\n",
              "    <button class=\"colab-df-convert\" onclick=\"convertToInteractive('df-975e6c83-0d64-4a9d-b5b9-9013e20e4474')\"\n",
              "            title=\"Convert this dataframe to an interactive table.\"\n",
              "            style=\"display:none;\">\n",
              "\n",
              "  <svg xmlns=\"http://www.w3.org/2000/svg\" height=\"24px\" viewBox=\"0 -960 960 960\">\n",
              "    <path d=\"M120-120v-720h720v720H120Zm60-500h600v-160H180v160Zm220 220h160v-160H400v160Zm0 220h160v-160H400v160ZM180-400h160v-160H180v160Zm440 0h160v-160H620v160ZM180-180h160v-160H180v160Zm440 0h160v-160H620v160Z\"/>\n",
              "  </svg>\n",
              "    </button>\n",
              "\n",
              "  <style>\n",
              "    .colab-df-container {\n",
              "      display:flex;\n",
              "      gap: 12px;\n",
              "    }\n",
              "\n",
              "    .colab-df-convert {\n",
              "      background-color: #E8F0FE;\n",
              "      border: none;\n",
              "      border-radius: 50%;\n",
              "      cursor: pointer;\n",
              "      display: none;\n",
              "      fill: #1967D2;\n",
              "      height: 32px;\n",
              "      padding: 0 0 0 0;\n",
              "      width: 32px;\n",
              "    }\n",
              "\n",
              "    .colab-df-convert:hover {\n",
              "      background-color: #E2EBFA;\n",
              "      box-shadow: 0px 1px 2px rgba(60, 64, 67, 0.3), 0px 1px 3px 1px rgba(60, 64, 67, 0.15);\n",
              "      fill: #174EA6;\n",
              "    }\n",
              "\n",
              "    .colab-df-buttons div {\n",
              "      margin-bottom: 4px;\n",
              "    }\n",
              "\n",
              "    [theme=dark] .colab-df-convert {\n",
              "      background-color: #3B4455;\n",
              "      fill: #D2E3FC;\n",
              "    }\n",
              "\n",
              "    [theme=dark] .colab-df-convert:hover {\n",
              "      background-color: #434B5C;\n",
              "      box-shadow: 0px 1px 3px 1px rgba(0, 0, 0, 0.15);\n",
              "      filter: drop-shadow(0px 1px 2px rgba(0, 0, 0, 0.3));\n",
              "      fill: #FFFFFF;\n",
              "    }\n",
              "  </style>\n",
              "\n",
              "    <script>\n",
              "      const buttonEl =\n",
              "        document.querySelector('#df-975e6c83-0d64-4a9d-b5b9-9013e20e4474 button.colab-df-convert');\n",
              "      buttonEl.style.display =\n",
              "        google.colab.kernel.accessAllowed ? 'block' : 'none';\n",
              "\n",
              "      async function convertToInteractive(key) {\n",
              "        const element = document.querySelector('#df-975e6c83-0d64-4a9d-b5b9-9013e20e4474');\n",
              "        const dataTable =\n",
              "          await google.colab.kernel.invokeFunction('convertToInteractive',\n",
              "                                                    [key], {});\n",
              "        if (!dataTable) return;\n",
              "\n",
              "        const docLinkHtml = 'Like what you see? Visit the ' +\n",
              "          '<a target=\"_blank\" href=https://colab.research.google.com/notebooks/data_table.ipynb>data table notebook</a>'\n",
              "          + ' to learn more about interactive tables.';\n",
              "        element.innerHTML = '';\n",
              "        dataTable['output_type'] = 'display_data';\n",
              "        await google.colab.output.renderOutput(dataTable, element);\n",
              "        const docLink = document.createElement('div');\n",
              "        docLink.innerHTML = docLinkHtml;\n",
              "        element.appendChild(docLink);\n",
              "      }\n",
              "    </script>\n",
              "  </div>\n",
              "\n",
              "\n",
              "<div id=\"df-e80b7b82-a551-4edb-93b9-aac466311587\">\n",
              "  <button class=\"colab-df-quickchart\" onclick=\"quickchart('df-e80b7b82-a551-4edb-93b9-aac466311587')\"\n",
              "            title=\"Suggest charts\"\n",
              "            style=\"display:none;\">\n",
              "\n",
              "<svg xmlns=\"http://www.w3.org/2000/svg\" height=\"24px\"viewBox=\"0 0 24 24\"\n",
              "     width=\"24px\">\n",
              "    <g>\n",
              "        <path d=\"M19 3H5c-1.1 0-2 .9-2 2v14c0 1.1.9 2 2 2h14c1.1 0 2-.9 2-2V5c0-1.1-.9-2-2-2zM9 17H7v-7h2v7zm4 0h-2V7h2v10zm4 0h-2v-4h2v4z\"/>\n",
              "    </g>\n",
              "</svg>\n",
              "  </button>\n",
              "\n",
              "<style>\n",
              "  .colab-df-quickchart {\n",
              "      --bg-color: #E8F0FE;\n",
              "      --fill-color: #1967D2;\n",
              "      --hover-bg-color: #E2EBFA;\n",
              "      --hover-fill-color: #174EA6;\n",
              "      --disabled-fill-color: #AAA;\n",
              "      --disabled-bg-color: #DDD;\n",
              "  }\n",
              "\n",
              "  [theme=dark] .colab-df-quickchart {\n",
              "      --bg-color: #3B4455;\n",
              "      --fill-color: #D2E3FC;\n",
              "      --hover-bg-color: #434B5C;\n",
              "      --hover-fill-color: #FFFFFF;\n",
              "      --disabled-bg-color: #3B4455;\n",
              "      --disabled-fill-color: #666;\n",
              "  }\n",
              "\n",
              "  .colab-df-quickchart {\n",
              "    background-color: var(--bg-color);\n",
              "    border: none;\n",
              "    border-radius: 50%;\n",
              "    cursor: pointer;\n",
              "    display: none;\n",
              "    fill: var(--fill-color);\n",
              "    height: 32px;\n",
              "    padding: 0;\n",
              "    width: 32px;\n",
              "  }\n",
              "\n",
              "  .colab-df-quickchart:hover {\n",
              "    background-color: var(--hover-bg-color);\n",
              "    box-shadow: 0 1px 2px rgba(60, 64, 67, 0.3), 0 1px 3px 1px rgba(60, 64, 67, 0.15);\n",
              "    fill: var(--button-hover-fill-color);\n",
              "  }\n",
              "\n",
              "  .colab-df-quickchart-complete:disabled,\n",
              "  .colab-df-quickchart-complete:disabled:hover {\n",
              "    background-color: var(--disabled-bg-color);\n",
              "    fill: var(--disabled-fill-color);\n",
              "    box-shadow: none;\n",
              "  }\n",
              "\n",
              "  .colab-df-spinner {\n",
              "    border: 2px solid var(--fill-color);\n",
              "    border-color: transparent;\n",
              "    border-bottom-color: var(--fill-color);\n",
              "    animation:\n",
              "      spin 1s steps(1) infinite;\n",
              "  }\n",
              "\n",
              "  @keyframes spin {\n",
              "    0% {\n",
              "      border-color: transparent;\n",
              "      border-bottom-color: var(--fill-color);\n",
              "      border-left-color: var(--fill-color);\n",
              "    }\n",
              "    20% {\n",
              "      border-color: transparent;\n",
              "      border-left-color: var(--fill-color);\n",
              "      border-top-color: var(--fill-color);\n",
              "    }\n",
              "    30% {\n",
              "      border-color: transparent;\n",
              "      border-left-color: var(--fill-color);\n",
              "      border-top-color: var(--fill-color);\n",
              "      border-right-color: var(--fill-color);\n",
              "    }\n",
              "    40% {\n",
              "      border-color: transparent;\n",
              "      border-right-color: var(--fill-color);\n",
              "      border-top-color: var(--fill-color);\n",
              "    }\n",
              "    60% {\n",
              "      border-color: transparent;\n",
              "      border-right-color: var(--fill-color);\n",
              "    }\n",
              "    80% {\n",
              "      border-color: transparent;\n",
              "      border-right-color: var(--fill-color);\n",
              "      border-bottom-color: var(--fill-color);\n",
              "    }\n",
              "    90% {\n",
              "      border-color: transparent;\n",
              "      border-bottom-color: var(--fill-color);\n",
              "    }\n",
              "  }\n",
              "</style>\n",
              "\n",
              "  <script>\n",
              "    async function quickchart(key) {\n",
              "      const quickchartButtonEl =\n",
              "        document.querySelector('#' + key + ' button');\n",
              "      quickchartButtonEl.disabled = true;  // To prevent multiple clicks.\n",
              "      quickchartButtonEl.classList.add('colab-df-spinner');\n",
              "      try {\n",
              "        const charts = await google.colab.kernel.invokeFunction(\n",
              "            'suggestCharts', [key], {});\n",
              "      } catch (error) {\n",
              "        console.error('Error during call to suggestCharts:', error);\n",
              "      }\n",
              "      quickchartButtonEl.classList.remove('colab-df-spinner');\n",
              "      quickchartButtonEl.classList.add('colab-df-quickchart-complete');\n",
              "    }\n",
              "    (() => {\n",
              "      let quickchartButtonEl =\n",
              "        document.querySelector('#df-e80b7b82-a551-4edb-93b9-aac466311587 button');\n",
              "      quickchartButtonEl.style.display =\n",
              "        google.colab.kernel.accessAllowed ? 'block' : 'none';\n",
              "    })();\n",
              "  </script>\n",
              "</div>\n",
              "\n",
              "    </div>\n",
              "  </div>\n"
            ],
            "application/vnd.google.colaboratory.intrinsic+json": {
              "type": "dataframe",
              "variable_name": "df"
            }
          },
          "metadata": {},
          "execution_count": 5
        }
      ]
    },
    {
      "cell_type": "markdown",
      "source": [
        "##Veri Keşfi\n",
        "Eksik verilerimizin ne kadar ve nerede olduğunu gördük. Veri Seti elemanlarının dağılımlarının eşit olduğunu gördük. Isı haritası ile veri setimizdeki değişkenlerin korelasyonlarını görselleştirdik. Modelin performansı için CustomerID sütunu silinecektir. Chrun ile doğru ilişkide olan support calls (0.52) ve payment delay (0.33) görülmüştür. Ters ilişkide ise total spend (-0.37) dikkat çekmiştir. Yaş arttıkça churn ihtimalide (0.19) artmaktadır ama bu düşük bir değer.\n"
      ],
      "metadata": {
        "id": "UWjWvnGbqUpm"
      }
    },
    {
      "cell_type": "code",
      "source": [
        "missing_values = df.isnull().sum()\n",
        "print(missing_values)\n",
        "df.info()"
      ],
      "metadata": {
        "colab": {
          "base_uri": "https://localhost:8080/"
        },
        "id": "7ObU_nPfmy_t",
        "outputId": "c93845dc-8e47-454f-cf3c-789c6ba39ccc"
      },
      "execution_count": null,
      "outputs": [
        {
          "output_type": "stream",
          "name": "stdout",
          "text": [
            "CustomerID           1\n",
            "Age                  1\n",
            "Gender               1\n",
            "Tenure               1\n",
            "Usage Frequency      1\n",
            "Support Calls        1\n",
            "Payment Delay        1\n",
            "Subscription Type    1\n",
            "Contract Length      1\n",
            "Total Spend          1\n",
            "Last Interaction     1\n",
            "Churn                1\n",
            "dtype: int64\n",
            "<class 'pandas.core.frame.DataFrame'>\n",
            "RangeIndex: 505207 entries, 0 to 505206\n",
            "Data columns (total 12 columns):\n",
            " #   Column             Non-Null Count   Dtype  \n",
            "---  ------             --------------   -----  \n",
            " 0   CustomerID         505206 non-null  float64\n",
            " 1   Age                505206 non-null  float64\n",
            " 2   Gender             505206 non-null  object \n",
            " 3   Tenure             505206 non-null  float64\n",
            " 4   Usage Frequency    505206 non-null  float64\n",
            " 5   Support Calls      505206 non-null  float64\n",
            " 6   Payment Delay      505206 non-null  float64\n",
            " 7   Subscription Type  505206 non-null  object \n",
            " 8   Contract Length    505206 non-null  object \n",
            " 9   Total Spend        505206 non-null  float64\n",
            " 10  Last Interaction   505206 non-null  float64\n",
            " 11  Churn              505206 non-null  float64\n",
            "dtypes: float64(9), object(3)\n",
            "memory usage: 46.3+ MB\n"
          ]
        }
      ]
    },
    {
      "cell_type": "code",
      "source": [
        "import matplotlib.pyplot as plt\n",
        "df.hist(bins=30, figsize=(15, 10))\n",
        "plt.show()"
      ],
      "metadata": {
        "colab": {
          "base_uri": "https://localhost:8080/",
          "height": 624
        },
        "id": "0-gVNXT0nDjY",
        "outputId": "7277798b-0087-435b-c50e-16469e237b53"
      },
      "execution_count": null,
      "outputs": [
        {
          "output_type": "display_data",
          "data": {
            "text/plain": [
              "<Figure size 1500x1000 with 9 Axes>"
            ],
            "image/png": "[encoded data removed]"
          },
          "metadata": {}
        }
      ]
    },
    {
      "cell_type": "code",
      "source": [
        "import seaborn as sns\n",
        "numeric_df = df.select_dtypes(include=['number'])\n",
        "\n",
        "# Calculate correlation matrix\n",
        "corr_matrix = numeric_df.corr()\n",
        "\n",
        "sns.heatmap(corr_matrix, annot=True, cmap='coolwarm')\n",
        "plt.show()"
      ],
      "metadata": {
        "colab": {
          "base_uri": "https://localhost:8080/",
          "height": 541
        },
        "id": "NMuMk9vHnV9w",
        "outputId": "3defcf48-31af-4808-f9b8-e909870ac9ac"
      },
      "execution_count": null,
      "outputs": [
        {
          "output_type": "display_data",
          "data": {
            "text/plain": [
              "<Figure size 640x480 with 2 Axes>"
            ],
            "image/png": "[encoded data removed]"
          },
          "metadata": {}
        }
      ]
    },
    {
      "cell_type": "markdown",
      "source": [
        "##Veri Ön İşleme\n",
        "Bu kısımda eksik veriler sütunun ortalaması ile doldurulacak, aykırı değerler z-skoru yöntemi ile tespit edilip temizlenecek. Gerekli sütunlar min-max scaler ile ölçeklemesi gerçekleştirilecek. ve customerID çıkarılacak. Veri ayırma işlemi %90 eğitim %10 test verisi olarak gerçekleştirilecektir.    \n"
      ],
      "metadata": {
        "id": "lofmvdq4suZa"
      }
    },
    {
      "cell_type": "code",
      "source": [
        "df=df.drop(columns=['CustomerID'])"
      ],
      "metadata": {
        "id": "ERDeDSxD-APL"
      },
      "execution_count": null,
      "outputs": []
    },
    {
      "cell_type": "markdown",
      "source": [
        "### Eksik Verileri Doldurma\n",
        "Burada sadedce int değerlerin ortalamasını girebileceğimiz için onları seçmemiz gerekir\n"
      ],
      "metadata": {
        "id": "zL_U_AQE-Bsp"
      }
    },
    {
      "cell_type": "code",
      "source": [
        "import numpy as np\n",
        "print(\"Eksik değerlerin sayısı:\\n\", df.isnull().sum())\n",
        "\n",
        "numeric_df = df.select_dtypes(include=np.number)\n",
        "\n",
        "df[numeric_df.columns] = df[numeric_df.columns].fillna(numeric_df.mean())\n",
        "print(\"Eksik değerler dolduruldu.\")"
      ],
      "metadata": {
        "colab": {
          "base_uri": "https://localhost:8080/"
        },
        "id": "9PMms6wZ2Cbo",
        "outputId": "32159714-4e6f-4aa5-c0b2-7b4a950b1b4b"
      },
      "execution_count": null,
      "outputs": [
        {
          "output_type": "stream",
          "name": "stdout",
          "text": [
            "Eksik değerlerin sayısı:\n",
            " Age                  1\n",
            "Gender               1\n",
            "Tenure               1\n",
            "Usage Frequency      1\n",
            "Support Calls        1\n",
            "Payment Delay        1\n",
            "Subscription Type    1\n",
            "Contract Length      1\n",
            "Total Spend          1\n",
            "Last Interaction     1\n",
            "Churn                1\n",
            "dtype: int64\n",
            "Eksik değerler dolduruldu.\n"
          ]
        }
      ]
    },
    {
      "cell_type": "markdown",
      "source": [
        "Burada Gender, subscription type ve contract lenght bir integer değer olmadığı için onlarda eksik değer bulunan satırlar ortalaması farklı şekilde alınıp kullanıldı."
      ],
      "metadata": {
        "id": "fHvs-FYZ4O6J"
      }
    },
    {
      "cell_type": "code",
      "source": [
        "categorical_columns = ['Gender', 'Subscription Type', 'Contract Length']\n",
        "for col in categorical_columns:\n",
        "    df[col].fillna(df[col].mode()[0], inplace=True)"
      ],
      "metadata": {
        "colab": {
          "base_uri": "https://localhost:8080/"
        },
        "id": "1KyfErqH3S7a",
        "outputId": "690d34a3-9be6-49ac-ca03-a8c4e0895c49"
      },
      "execution_count": null,
      "outputs": [
        {
          "output_type": "stream",
          "name": "stderr",
          "text": [
            "<ipython-input-11-65c94d3875e3>:3: FutureWarning: A value is trying to be set on a copy of a DataFrame or Series through chained assignment using an inplace method.\n",
            "The behavior will change in pandas 3.0. This inplace method will never work because the intermediate object on which we are setting values always behaves as a copy.\n",
            "\n",
            "For example, when doing 'df[col].method(value, inplace=True)', try using 'df.method({col: value}, inplace=True)' or df[col] = df[col].method(value) instead, to perform the operation inplace on the original object.\n",
            "\n",
            "\n",
            "  df[col].fillna(df[col].mode()[0], inplace=True)\n"
          ]
        }
      ]
    },
    {
      "cell_type": "markdown",
      "source": [
        "### Aykırı verilerin Tespiti ve temizlenmesi\n",
        "Z-Scoru Yöntemi ile aykırı veriler temizlenmiştir."
      ],
      "metadata": {
        "id": "OW1ipYd7-SS3"
      }
    },
    {
      "cell_type": "code",
      "source": [
        "from scipy.stats import zscore\n",
        "\n",
        "# Z-Skoru hesaplama\n",
        "z_scores = np.abs(zscore(df.select_dtypes(include=[np.number])))\n",
        "threshold = 2 # Aykırı değer eşiği\n",
        "sd = df[(z_scores < threshold).all(axis=1)]\n",
        "print(f\"Aykırı değerler temizlendi. Yeni veri seti boyutu: {sd.shape}\")\n",
        "\n",
        "df_cleaned = sd\n"
      ],
      "metadata": {
        "colab": {
          "base_uri": "https://localhost:8080/"
        },
        "id": "3lVm4llA-NgW",
        "outputId": "0de5fc86-dd04-470e-bd30-8efbd08be2cb"
      },
      "execution_count": null,
      "outputs": [
        {
          "output_type": "stream",
          "name": "stdout",
          "text": [
            "Aykırı değerler temizlendi. Yeni veri seti boyutu: (494576, 11)\n"
          ]
        }
      ]
    },
    {
      "cell_type": "markdown",
      "source": [
        "### Kategorik Verilerin Sayısal Hale Dönüştürülmesi\n",
        "Burada Gender, Contract Lenght ve subscription Type Label encoding kullanılarak etikelenmiştir."
      ],
      "metadata": {
        "id": "2RK0h1wR7DOU"
      }
    },
    {
      "cell_type": "code",
      "source": [
        "from sklearn.preprocessing import LabelEncoder\n",
        "\n",
        "# Gender için Label Encoding\n",
        "le_gender = LabelEncoder()\n",
        "df_cleaned['Gender'] = le_gender.fit_transform(df_cleaned['Gender'])\n",
        "\n",
        "# Contract Length için Label Encoding\n",
        "le_contract = LabelEncoder()\n",
        "df_cleaned['Contract Length'] = le_contract.fit_transform(df_cleaned['Contract Length'])\n",
        "\n",
        "# Subscription Type için Label Encoding\n",
        "le_subscription = LabelEncoder()\n",
        "df_cleaned['Subscription Type'] = le_contract.fit_transform(df_cleaned['Subscription Type'])\n",
        "\n",
        "print(df_cleaned.head())\n"
      ],
      "metadata": {
        "colab": {
          "base_uri": "https://localhost:8080/"
        },
        "id": "Wd_PDhNF8COY",
        "outputId": "b91db6be-dc95-4444-f7aa-7b2a89df9001"
      },
      "execution_count": null,
      "outputs": [
        {
          "output_type": "stream",
          "name": "stdout",
          "text": [
            "    Age  Gender  Tenure  Usage Frequency  Support Calls  Payment Delay  \\\n",
            "0  22.0       0    25.0             14.0            4.0           27.0   \n",
            "1  30.0       0    39.0             14.0            5.0           18.0   \n",
            "2  41.0       0    28.0             28.0            7.0           13.0   \n",
            "3  47.0       1    27.0             10.0            2.0           29.0   \n",
            "4  65.0       0    49.0              1.0           10.0            8.0   \n",
            "\n",
            "   Subscription Type  Contract Length  Total Spend  Last Interaction  Churn  \n",
            "0                  0                1        598.0               9.0    1.0  \n",
            "1                  2                0        932.0              17.0    1.0  \n",
            "2                  2                1        584.0              20.0    0.0  \n",
            "3                  1                0        757.0              21.0    0.0  \n",
            "4                  0                1        557.0               6.0    1.0  \n"
          ]
        },
        {
          "output_type": "stream",
          "name": "stderr",
          "text": [
            "<ipython-input-13-f8df42723aa8>:5: SettingWithCopyWarning: \n",
            "A value is trying to be set on a copy of a slice from a DataFrame.\n",
            "Try using .loc[row_indexer,col_indexer] = value instead\n",
            "\n",
            "See the caveats in the documentation: https://pandas.pydata.org/pandas-docs/stable/user_guide/indexing.html#returning-a-view-versus-a-copy\n",
            "  df_cleaned['Gender'] = le_gender.fit_transform(df_cleaned['Gender'])\n",
            "<ipython-input-13-f8df42723aa8>:9: SettingWithCopyWarning: \n",
            "A value is trying to be set on a copy of a slice from a DataFrame.\n",
            "Try using .loc[row_indexer,col_indexer] = value instead\n",
            "\n",
            "See the caveats in the documentation: https://pandas.pydata.org/pandas-docs/stable/user_guide/indexing.html#returning-a-view-versus-a-copy\n",
            "  df_cleaned['Contract Length'] = le_contract.fit_transform(df_cleaned['Contract Length'])\n",
            "<ipython-input-13-f8df42723aa8>:13: SettingWithCopyWarning: \n",
            "A value is trying to be set on a copy of a slice from a DataFrame.\n",
            "Try using .loc[row_indexer,col_indexer] = value instead\n",
            "\n",
            "See the caveats in the documentation: https://pandas.pydata.org/pandas-docs/stable/user_guide/indexing.html#returning-a-view-versus-a-copy\n",
            "  df_cleaned['Subscription Type'] = le_contract.fit_transform(df_cleaned['Subscription Type'])\n"
          ]
        }
      ]
    },
    {
      "cell_type": "markdown",
      "source": [
        "### Veri Ölçekleme\n",
        "Min-Max Slacer kullanılarak yapılacaktır. Age, Usage Frequency, Support Calls, Payment Delay, Total Spend, Last Interaction, kısımlarına uygulanmıştır."
      ],
      "metadata": {
        "id": "gL5ssqs74soe"
      }
    },
    {
      "cell_type": "code",
      "source": [
        "from sklearn.preprocessing import MinMaxScaler\n",
        "\n",
        "numerical_columns = ['Age', 'Usage Frequency', 'Support Calls', 'Payment Delay',\n",
        "                     'Total Spend', 'Last Interaction']\n",
        "scaler = MinMaxScaler()\n",
        "\n",
        "df_cleaned[numerical_columns] = scaler.fit_transform(df_cleaned[numerical_columns])\n",
        "\n",
        "print(df_cleaned.head())\n"
      ],
      "metadata": {
        "colab": {
          "base_uri": "https://localhost:8080/"
        },
        "id": "H1ywZdjq5QWa",
        "outputId": "0b2dd8ee-97ac-498b-bf39-035ebc78da38"
      },
      "execution_count": null,
      "outputs": [
        {
          "output_type": "stream",
          "name": "stdout",
          "text": [
            "        Age  Gender  Tenure  Usage Frequency  Support Calls  Payment Delay  \\\n",
            "0  0.085106       0    25.0         0.448276            0.4       0.900000   \n",
            "1  0.255319       0    39.0         0.448276            0.5       0.600000   \n",
            "2  0.489362       0    28.0         0.931034            0.7       0.433333   \n",
            "3  0.617021       1    27.0         0.310345            0.2       0.966667   \n",
            "4  1.000000       0    49.0         0.000000            1.0       0.266667   \n",
            "\n",
            "   Subscription Type  Contract Length  Total Spend  Last Interaction  Churn  \n",
            "0                  0                1     0.538228          0.275862    1.0  \n",
            "1                  2                0     0.921889          0.551724    1.0  \n",
            "2                  2                1     0.522147          0.655172    0.0  \n",
            "3                  1                0     0.720869          0.689655    0.0  \n",
            "4                  0                1     0.491132          0.172414    1.0  \n"
          ]
        },
        {
          "output_type": "stream",
          "name": "stderr",
          "text": [
            "<ipython-input-14-b8e68cefe814>:7: SettingWithCopyWarning: \n",
            "A value is trying to be set on a copy of a slice from a DataFrame.\n",
            "Try using .loc[row_indexer,col_indexer] = value instead\n",
            "\n",
            "See the caveats in the documentation: https://pandas.pydata.org/pandas-docs/stable/user_guide/indexing.html#returning-a-view-versus-a-copy\n",
            "  df_cleaned[numerical_columns] = scaler.fit_transform(df_cleaned[numerical_columns])\n"
          ]
        }
      ]
    },
    {
      "cell_type": "markdown",
      "source": [
        "### Veri Ayırma\n",
        "Burada verisetimiz işlenmiş olarak test ve eğitim verisi olarak 2 ayrı dataframe e ayrılacaktır. Başta %90 eğitim verisi %10 test verisi olarak ayrılacaktır. Eğer bu değerler yeterli olmazsa ileride değişiklik yapılacaktır."
      ],
      "metadata": {
        "id": "z8bK58u_8ZvD"
      }
    },
    {
      "cell_type": "code",
      "source": [
        "from sklearn.model_selection import train_test_split\n",
        "\n",
        "# Özellikler (X) ve hedef değişken (y) belirleme\n",
        "data_set_attributes = df_cleaned.drop(columns=['Churn'])  # Churn hedef sütunu\n",
        "data_set_classes = df_cleaned['Churn']\n",
        "\n",
        "\n",
        "\n",
        "# Veri setini ayırma\n",
        "X_train, X_test, y_train, y_test = train_test_split(data_set_attributes, data_set_classes, test_size=0.1, random_state=42)\n",
        "# print(f\"Eğitim veri boyutu: {X_train.shape}, Test veri boyutu: {X_test.shape}\")\n"
      ],
      "metadata": {
        "id": "Z5k385G88w7y"
      },
      "execution_count": null,
      "outputs": []
    },
    {
      "cell_type": "markdown",
      "source": [
        "## Öznitelik Seçimi\n"
      ],
      "metadata": {
        "id": "mb6eWwSHHcUo"
      }
    },
    {
      "cell_type": "code",
      "source": [
        "from sklearn.model_selection import GridSearchCV, KFold\n",
        "from sklearn.metrics import accuracy_score, f1_score, roc_auc_score, confusion_matrix, recall_score, precision_score, balanced_accuracy_score, log_loss\n",
        "from sklearn.decomposition import PCA\n",
        "from sklearn.feature_selection import VarianceThreshold\n",
        "from sklearn.linear_model import LogisticRegression\n",
        "from sklearn.tree import DecisionTreeClassifier\n",
        "from sklearn.ensemble import RandomForestClassifier\n",
        "from sklearn.neighbors import KNeighborsClassifier\n",
        "from sklearn.naive_bayes import GaussianNB\n",
        "import matplotlib.pyplot as plt\n",
        "import numpy as np\n",
        "\n",
        "\n",
        "# KFold tanımlama\n",
        "kf = KFold(n_splits=10, shuffle=True, random_state=42)\n",
        "\n",
        "def preprocess_features(X_train, X_test, use_pca=False, variance_threshold=0.1):\n",
        "    # PCA\n",
        "    if use_pca:\n",
        "        pca = PCA(n_components=6)\n",
        "        X_train = pca.fit_transform(X_train)\n",
        "        X_test = pca.transform(X_test)\n",
        "\n",
        "    # Varyans eşikleme\n",
        "    else:\n",
        "      vt = VarianceThreshold(threshold=variance_threshold)\n",
        "      X_train = vt.fit_transform(X_train)\n",
        "      X_test = vt.transform(X_test)\n",
        "\n",
        "    return X_train, X_test\n"
      ],
      "metadata": {
        "id": "w41W3Nj1EzKX"
      },
      "execution_count": null,
      "outputs": []
    },
    {
      "cell_type": "markdown",
      "source": [
        "## Confusion matris heatmap çizimi"
      ],
      "metadata": {
        "id": "BqyMyz2n5UP_"
      }
    },
    {
      "cell_type": "code",
      "source": [
        "import seaborn as sns\n",
        "import matplotlib.pyplot as plt\n",
        "\n",
        "def plot_average_confusion_matrix_heatmap(results_df):\n",
        "    # Ortalama satırını filtrele\n",
        "    avg_row = results_df[results_df[\"Fold\"] == \"Average\"]\n",
        "    if avg_row.empty:\n",
        "        raise ValueError(f\"Ortalama değerleri içeren satır Average bulunamadı.\")\n",
        "\n",
        "    confusion_values = [avg_row[\"TN\"].values[0], avg_row[\"FP\"].values[0],\n",
        "                        avg_row[\"FN\"].values[0], avg_row[\"TP\"].values[0]]\n",
        "\n",
        "    # Heatmap çizimi\n",
        "    cm_matrix = [[confusion_values[0], confusion_values[1]],  # [[TN, FP],\n",
        "                 [confusion_values[2], confusion_values[3]]]  #  [FN, TP]]\n",
        "\n",
        "    plt.figure(figsize=(6, 5))\n",
        "    sns.heatmap(cm_matrix, annot=True, fmt='.2f', cmap='Blues', cbar=False)\n",
        "    plt.title(\"Karmaşıklık Matrisi\")\n",
        "    plt.xlabel(\"Tahmini Etiketler\")\n",
        "    plt.ylabel(\"Doğru Etiketler\")\n",
        "    plt.xticks([0.5, 1.5], [\"Negatif\", \"Pozitif\"])\n",
        "    plt.yticks([0.5, 1.5], [\"Negatif\", \"Pozitif\"], rotation=0)\n",
        "    plt.show()\n",
        "\n"
      ],
      "metadata": {
        "id": "X2nNIYVH5ZlZ"
      },
      "execution_count": null,
      "outputs": []
    },
    {
      "cell_type": "markdown",
      "source": [
        "## Makine Öğrenimi Model Eğitimi\n"
      ],
      "metadata": {
        "id": "ufdWfGP9E2To"
      }
    },
    {
      "cell_type": "code",
      "source": [
        "import time\n",
        "def evaluate_model(model, params, X, y, use_pca=False, variance_threshold=0.1,file_name=\"fold_results\"):\n",
        "    all_folds = []\n",
        "\n",
        "    for fold_index, (train_index, test_index) in enumerate(kf.split(X, y), start=1):\n",
        "        print(f\"{fold_index}. fold işlemi başladı...\")\n",
        "        X_train, X_test = X.iloc[train_index], X.iloc[test_index]\n",
        "        y_train, y_test = y.iloc[train_index], y.iloc[test_index]\n",
        "\n",
        "        #X_train, X_test = preprocess_features(X_train, X_test, use_pca=use_pca, variance_threshold=variance_threshold)\n",
        "\n",
        "        y_train = y_train.astype(int)\n",
        "        y_test = y_test.astype(int)\n",
        "\n",
        "        start_time = time.time()\n",
        "        # Hiperparametre optimizasyonu\n",
        "        grid = GridSearchCV(model, params, cv=kf, scoring='accuracy', verbose=0, n_jobs=-1)\n",
        "        grid.fit(X_train, y_train)\n",
        "\n",
        "        training_time = time.time() - start_time\n",
        "\n",
        "        best_model = grid.best_estimator_\n",
        "        best_params = grid.best_params_\n",
        "\n",
        "        y_pred = best_model.predict(X_test)\n",
        "        y_pred = y_pred.astype(int)\n",
        "\n",
        "        # Performans metriklerini hesapla\n",
        "        accuracy = accuracy_score(y_test, y_pred)\n",
        "        f1 = f1_score(y_test, y_pred)\n",
        "        recall = recall_score(y_test, y_pred)\n",
        "        precision = precision_score(y_test, y_pred)\n",
        "        try:\n",
        "             auc = (roc_auc_score(y_test, best_model.predict_proba(X_test)[:, 1]))\n",
        "        except AttributeError:\n",
        "             auc =(\"N/A\")\n",
        "        # Confusion matrix değerlerini hesapla\n",
        "        tn, fp, fn, tp = confusion_matrix(y_test, y_pred).ravel()\n",
        "        specificity = ( tn / (tn+fp))\n",
        "        logloss = log_loss(y_test, best_model.predict_proba(X_test))\n",
        "        balanced_acc = balanced_accuracy_score(y_test, y_pred)\n",
        "        tn, fp, fn, tp = confusion_matrix(y_test, y_pred).ravel()\n",
        "\n",
        "        all_folds.append({\n",
        "            \"Fold\": fold_index,\n",
        "            \"Best Parameters\": best_params,\n",
        "            \"Training Time (s)\": training_time,\n",
        "            \"Accuracy\": accuracy,\n",
        "            \"F1-Score\": f1,\n",
        "            \"AUC\": auc,\n",
        "            \"Recall\": recall,\n",
        "            \"Precision\": precision,\n",
        "            \"Specificity\": specificity,\n",
        "            \"LogLoss\": logloss,\n",
        "            \"Balanced Accuracy\": balanced_acc,\n",
        "            \"TN\": tn,\n",
        "            \"FP\": fp,\n",
        "            \"FN\": fn,\n",
        "            \"TP\": tp\n",
        "        })\n",
        "\n",
        "    averages = pd.DataFrame(all_folds).mean(numeric_only=True).to_dict()\n",
        "    averages[\"Fold\"] = \"Average\"\n",
        "    averages[\"Best Parameters\"] = \"N/A\"\n",
        "    all_folds.append(averages)\n",
        "\n",
        "    results_df = pd.DataFrame(all_folds)\n",
        "    results_df.to_excel(file_name, index=False)\n",
        "    plot_average_confusion_matrix_heatmap(results_df)\n"
      ],
      "metadata": {
        "id": "PZTLdDrYHcFh"
      },
      "execution_count": null,
      "outputs": []
    },
    {
      "cell_type": "markdown",
      "source": [
        "### Lojistik Regresyon"
      ],
      "metadata": {
        "id": "Yx9fT5XE2k-7"
      }
    },
    {
      "cell_type": "code",
      "source": [
        "def Evalute_LogRes():\n",
        "  logResModel = LogisticRegression()\n",
        "  logResParams = {\n",
        "      'C': [0.1, 1, 10],\n",
        "      'solver': ['lbfgs', 'liblinear']\n",
        "  }\n",
        "\n",
        "  evaluate_model(logResModel, logResParams, data_set_attributes, data_set_classes, use_pca=True,file_name=\"LogResRes.xlsx\")\n",
        "#Evalute_LogRes()"
      ],
      "metadata": {
        "id": "9iVy2g372pLK"
      },
      "execution_count": null,
      "outputs": []
    },
    {
      "cell_type": "markdown",
      "source": [],
      "metadata": {
        "id": "CcqEfTie8Ual"
      }
    },
    {
      "cell_type": "markdown",
      "source": [
        "### Decision Tree\n"
      ],
      "metadata": {
        "id": "4nSoZ1ZI8WxX"
      }
    },
    {
      "cell_type": "code",
      "source": [
        "def Evalute_DecisionTree():\n",
        "  DecisionTreeModel = DecisionTreeClassifier()\n",
        "  DecisionTreeParams = {\n",
        "      'max_depth': [5, 10, 20, None],\n",
        "      'min_samples_split': [2, 5, 10],\n",
        "      'min_samples_leaf': [1, 2, 4]\n",
        "  }\n",
        "\n",
        "  evaluate_model(DecisionTreeModel, DecisionTreeParams, data_set_attributes, data_set_classes, use_pca=True,file_name=\"DecisionTreeRes.xlsx\")\n",
        "#Evalute_DecisionTree()"
      ],
      "metadata": {
        "id": "wLlhgLQ28ech"
      },
      "execution_count": null,
      "outputs": []
    },
    {
      "cell_type": "markdown",
      "source": [
        "### KNN"
      ],
      "metadata": {
        "id": "ePeR4_RoFrUY"
      }
    },
    {
      "cell_type": "code",
      "source": [
        "def Evalute_knn():\n",
        "  Evalute_knnModel = KNeighborsClassifier()\n",
        "  knnParams = {\n",
        "     'n_neighbors': [3, 5, 7, 9],\n",
        "     'weights': ['uniform', 'distance']\n",
        "  }\n",
        "\n",
        "  evaluate_model(Evalute_knnModel, knnParams, data_set_attributes, data_set_classes, use_pca=True,file_name=\"KNNRes.xlsx\")\n",
        "#Evalute_knn()"
      ],
      "metadata": {
        "id": "GMzcZTbdFtSb"
      },
      "execution_count": null,
      "outputs": []
    },
    {
      "cell_type": "markdown",
      "source": [
        "### Naive Bayes\n"
      ],
      "metadata": {
        "id": "qL921tStNEf_"
      }
    },
    {
      "cell_type": "code",
      "source": [
        "def Evalute_naiveBayes():\n",
        "  NaiveBayesModel = GaussianNB()\n",
        "  NaiveBayesParams = {}\n",
        "\n",
        "  evaluate_model(NaiveBayesModel, NaiveBayesParams, data_set_attributes, data_set_classes, use_pca=True,file_name=\"NaiveBayesRes.xlsx\")\n",
        "#Evalute_naiveBayes()"
      ],
      "metadata": {
        "id": "zh4VI-FJNGQf"
      },
      "execution_count": null,
      "outputs": []
    },
    {
      "cell_type": "markdown",
      "source": [
        "### Random Forest"
      ],
      "metadata": {
        "id": "lHf89MryN_Ow"
      }
    },
    {
      "cell_type": "code",
      "source": [
        "def Evalute_RandomForest():\n",
        "  RandomForestModel = RandomForestClassifier()\n",
        "  RandomForestParams = {\n",
        "      'n_estimators': [50, 100],\n",
        "      'max_depth': [5],\n",
        "      'min_samples_split': [  10],\n",
        "      'min_samples_leaf': [  4],\n",
        "  }\n",
        "\n",
        "  evaluate_model(RandomForestModel, RandomForestParams, data_set_attributes, data_set_classes, use_pca=True,file_name=\"RandomForestPCAon.xlsx\")\n",
        "#Evalute_RandomForest()"
      ],
      "metadata": {
        "id": "ZQRGBFn0OCJg"
      },
      "execution_count": null,
      "outputs": []
    },
    {
      "cell_type": "markdown",
      "source": [
        "### Meta Model Eğitimi\n",
        "Optimizasyon ve pca\n"
      ],
      "metadata": {
        "id": "-8qMKN5TKwud"
      }
    },
    {
      "cell_type": "code",
      "source": [
        "from sklearn.ensemble import StackingClassifier\n",
        "base_models = [\n",
        "    ('naive_bayes', GaussianNB()),\n",
        "    ('decision_tree', DecisionTreeClassifier(max_depth=5,min_samples_leaf=1,min_samples_split=2))\n",
        "]\n",
        "# Meta model (Random Forest) ve hiperparametreler\n",
        "meta_model = RandomForestClassifier(n_estimators=100,max_depth=5,min_samples_leaf=4,min_samples_split=10)\n",
        "\n",
        "stacking_clf = StackingClassifier(estimators=base_models, final_estimator=meta_model, cv=kf)"
      ],
      "metadata": {
        "id": "X9JERhvDfBKx"
      },
      "execution_count": null,
      "outputs": []
    },
    {
      "cell_type": "markdown",
      "source": [
        "Eğitim\n"
      ],
      "metadata": {
        "id": "kWXDjdw6fF8i"
      }
    },
    {
      "cell_type": "code",
      "source": [
        "# Performans değerlendirme fonksiyonu\n",
        "def evaluate_stacking_model(model, X, y, use_pca=False, variance_threshold=0.1,file_name=\"stacking.xlsx\"):\n",
        "    fold_results = []\n",
        "\n",
        "    for fold_index, (train_index, test_index) in enumerate(kf.split(X, y), start=1):\n",
        "        print(f\"{fold_index}.fold başladı\")\n",
        "        X_train, X_test = X.iloc[train_index], X.iloc[test_index]\n",
        "        y_train, y_test = y.iloc[train_index], y.iloc[test_index]\n",
        "\n",
        "        # Özellik işleme\n",
        "        #X_train, X_test = preprocess_features(X_train, X_test, use_pca=use_pca, variance_threshold=variance_threshold)\n",
        "\n",
        "        y_train = y_train.astype(int)\n",
        "        y_test = y_test.astype(int)\n",
        "        # Model eğitimi ve tahmin\n",
        "        start_time = time.time()\n",
        "        model.fit(X_train, y_train)\n",
        "\n",
        "        training_time = time.time() - start_time\n",
        "\n",
        "        y_pred = model.predict(X_test)\n",
        "        y_pred = y_pred.astype(int)\n",
        "\n",
        "        # Performans metriklerini hesapla\n",
        "        accuracy = accuracy_score(y_test, y_pred)\n",
        "        f1 = f1_score(y_test, y_pred)\n",
        "        recall = recall_score(y_test, y_pred)\n",
        "        precision = precision_score(y_test, y_pred)\n",
        "        try:\n",
        "             auc = (roc_auc_score(y_test, model.predict_proba(X_test)[:, 1]))\n",
        "        except AttributeError:\n",
        "             auc =(\"N/A\")\n",
        "        # Confusion matrix değerlerini hesapla\n",
        "        tn, fp, fn, tp = confusion_matrix(y_test, y_pred).ravel()\n",
        "        specificity = ( tn / (tn+fp))\n",
        "        logloss = log_loss(y_test, model.predict_proba(X_test))\n",
        "        balanced_acc = balanced_accuracy_score(y_test, y_pred)\n",
        "        tn, fp, fn, tp = confusion_matrix(y_test, y_pred).ravel()\n",
        "\n",
        "        fold_results.append({\n",
        "            \"Fold\": fold_index,\n",
        "            \"Training Time (s)\": training_time,\n",
        "            \"Accuracy\": accuracy,\n",
        "            \"F1-Score\": f1,\n",
        "            \"AUC\": auc,\n",
        "            \"Recall\": recall,\n",
        "            \"Precision\": precision,\n",
        "            \"Specificity\": specificity,\n",
        "            \"LogLoss\": logloss,\n",
        "            \"Balanced Accuracy\": balanced_acc,\n",
        "            \"TN\": tn,\n",
        "            \"FP\": fp,\n",
        "            \"FN\": fn,\n",
        "            \"TP\": tp\n",
        "        })\n",
        "\n",
        "    averages = pd.DataFrame(fold_results).mean(numeric_only=True).to_dict()\n",
        "    averages[\"Fold\"] = \"Average\"\n",
        "    fold_results.append(averages)\n",
        "\n",
        "    results_df = pd.DataFrame(fold_results)\n",
        "    results_df.to_excel(file_name, index=False)\n",
        "    plot_average_confusion_matrix_heatmap(results_df)\n"
      ],
      "metadata": {
        "id": "VUOCEVaiKwBt"
      },
      "execution_count": null,
      "outputs": []
    },
    {
      "cell_type": "markdown",
      "source": [
        "çalıştırma"
      ],
      "metadata": {
        "id": "41gRKPyYh5Ii"
      }
    },
    {
      "cell_type": "code",
      "source": [
        "#evaluate_stacking_model(stacking_clf, data_set_attributes, data_set_classes, use_pca=True,file_name=\"StackingEnsemblePCAOn.xlsx\")"
      ],
      "metadata": {
        "id": "cUnFA4PHh3XS"
      },
      "execution_count": null,
      "outputs": []
    },
    {
      "cell_type": "markdown",
      "source": [
        "## Derin Öğrenme Modelleri\n"
      ],
      "metadata": {
        "id": "XXG1VqAaBi7W"
      }
    },
    {
      "cell_type": "markdown",
      "source": [
        "### Grafik Çizim\n"
      ],
      "metadata": {
        "id": "rvyhVpv48APh"
      }
    },
    {
      "cell_type": "code",
      "source": [
        "def plot_training_history(history):\n",
        "    plt.figure(figsize=(10, 6))\n",
        "    plt.plot(history.history['accuracy'], label='Eğitim Kesinliği')\n",
        "    plt.plot(history.history['val_accuracy'], label='Doğrulama Kesinliği')\n",
        "    plt.title('Eğitim ve Doğrulama Doğruluğu')\n",
        "    plt.xlabel('İterasyon')\n",
        "    plt.ylabel('Kesinlik')\n",
        "    plt.legend()\n",
        "    plt.grid(True)\n",
        "    plt.show()"
      ],
      "metadata": {
        "id": "RV784CLpHgr6"
      },
      "execution_count": null,
      "outputs": []
    },
    {
      "cell_type": "markdown",
      "source": [
        "### Evaluate DL Model"
      ],
      "metadata": {
        "id": "yYhe6_dQJoj2"
      }
    },
    {
      "cell_type": "code",
      "source": [
        "import tensorflow as tf\n",
        "from tensorflow.keras.callbacks import EarlyStopping\n",
        "def evaluate_dl_model(build_model_fn,X,y,use_pca=False, variance_threshold=0.1,file_name=\"dl_results.xlsx\",epochs=20, batch_size=64, patience=3):\n",
        "  fold_results = []\n",
        "\n",
        "  for fold_index, (train_index, test_index) in enumerate(kf.split(X, y), start=1):\n",
        "    print(f\"{fold_index}.fold başladı\")\n",
        "\n",
        "    X_train, X_test = X.iloc[train_index], X.iloc[test_index]\n",
        "    y_train, y_test = y.iloc[train_index], y.iloc[test_index]\n",
        "\n",
        "\n",
        "    #X_train, X_test = preprocess_features(X_train, X_test, use_pca=use_pca, variance_threshold=variance_threshold)\n",
        "\n",
        "    y_train = y_train.astype(int)\n",
        "    y_test = y_test.astype(int)\n",
        "\n",
        "    start_time = time.time()\n",
        "\n",
        "    model = build_model_fn(X_train.shape[1])\n",
        "\n",
        "    early_stopping = EarlyStopping(monitor='val_loss', patience=patience, restore_best_weights=True)\n",
        "\n",
        "    history = model.fit(\n",
        "            X_train, y_train,\n",
        "            validation_data=(X_test, y_test),\n",
        "            epochs=epochs,\n",
        "            batch_size=batch_size,\n",
        "            callbacks=[early_stopping],\n",
        "            verbose=0\n",
        "        )\n",
        "\n",
        "    training_time = time.time() - start_time\n",
        "\n",
        "    plot_training_history(history)\n",
        "    y_pred_proba = model.predict(X_test)\n",
        "    y_pred = (y_pred_proba > 0.5).astype(int)\n",
        "    tn, fp, fn, tp = confusion_matrix(y_test, y_pred).ravel()\n",
        "\n",
        "    fold_results.append({\n",
        "            \"Fold\": fold_index,\n",
        "            \"Time\": training_time,\n",
        "            \"Accuracy\": accuracy_score(y_test, y_pred),\n",
        "            \"F1-Score\": f1_score(y_test, y_pred),\n",
        "            \"AUC\": roc_auc_score(y_test, y_pred_proba),\n",
        "            \"Recall\": recall_score(y_test, y_pred),\n",
        "            \"Precision\": precision_score(y_test, y_pred),\n",
        "            \"Log Loss\": log_loss(y_test, y_pred_proba),\n",
        "            \"Balanced Accuracy\": balanced_accuracy_score(y_test, y_pred),\n",
        "            \"TN\": tn,\n",
        "            \"FP\": fp,\n",
        "            \"FN\": fn,\n",
        "            \"TP\": tp\n",
        "        })\n",
        "  averages = pd.DataFrame(fold_results).mean(numeric_only=True).to_dict()\n",
        "  averages[\"Fold\"] = \"Average\"\n",
        "  fold_results.append(averages)\n",
        "\n",
        "  results_df = pd.DataFrame(fold_results)\n",
        "  results_df.to_excel(file_name, index=False)\n",
        "  plot_average_confusion_matrix_heatmap(results_df)"
      ],
      "metadata": {
        "id": "y7ZP9jIDEHmr"
      },
      "execution_count": null,
      "outputs": []
    },
    {
      "cell_type": "markdown",
      "source": [
        "### Evaluate DL Model with 3d"
      ],
      "metadata": {
        "id": "dQ9Shb3JJv5I"
      }
    },
    {
      "cell_type": "code",
      "source": [
        "def evaluate_dl_model_with_metrics(build_model_fn, X, y, use_pca=False, variance_threshold=0.1, epochs=20, batch_size=64, file_name=\"results.xlsx\"):\n",
        "    results = []  # Her fold için metrikler\n",
        "\n",
        "\n",
        "    for fold_index, (train_index, test_index) in enumerate(kf.split(X, y), start=1):\n",
        "        print(f\"Starting fold {fold_index}\")\n",
        "        # Veriyi ayırma\n",
        "        X_train, X_test = X[train_index], X[test_index]\n",
        "        y_train, y_test = y.iloc[train_index], y.iloc[test_index]\n",
        "\n",
        "        y_train = y_train.astype(int)\n",
        "        y_test = y_test.astype(int)\n",
        "\n",
        "\n",
        "        #X_train, X_test = preprocess_features(X_train, X_test, use_pca=use_pca, variance_threshold=variance_threshold)\n",
        "\n",
        "        # Modeli oluşturma\n",
        "        input_dim = X_train.shape[1:]\n",
        "        model = build_model_fn(input_dim)\n",
        "\n",
        "        # Erken durdurma callback'i\n",
        "        early_stopper = EarlyStopping(monitor='val_loss', patience=3, restore_best_weights=True)\n",
        "\n",
        "        # Model eğitimi\n",
        "        start_time = time.time()\n",
        "        history = model.fit(\n",
        "            X_train, y_train,\n",
        "            validation_data=(X_test, y_test),\n",
        "            epochs=epochs,\n",
        "            batch_size=batch_size,\n",
        "            verbose=0,\n",
        "            callbacks=[early_stopper]\n",
        "        )\n",
        "        training_time = time.time() - start_time\n",
        "\n",
        "        plot_training_history(history)\n",
        "        # Tahminler ve olasılık tahminleri\n",
        "        y_pred_proba = model.predict(X_test)\n",
        "        y_pred = (y_pred_proba > 0.5).astype(int)\n",
        "\n",
        "        # Confusion matrix değerleri\n",
        "        tn, fp, fn, tp = confusion_matrix(y_test, y_pred).ravel()\n",
        "\n",
        "        # Metrikleri hesaplama\n",
        "        fold_results = ({\n",
        "            \"Fold\": fold_index,\n",
        "            \"Time\": training_time,\n",
        "            \"Accuracy\": accuracy_score(y_test, y_pred),\n",
        "            \"F1-Score\": f1_score(y_test, y_pred),\n",
        "            \"AUC\": roc_auc_score(y_test, y_pred_proba),\n",
        "            \"Recall\": recall_score(y_test, y_pred),\n",
        "            \"Precision\": precision_score(y_test, y_pred),\n",
        "            \"Log Loss\": log_loss(y_test, y_pred_proba),\n",
        "            \"Balanced Accuracy\": balanced_accuracy_score(y_test, y_pred),\n",
        "            \"TN\": tn,\n",
        "            \"FP\": fp,\n",
        "            \"FN\": fn,\n",
        "            \"TP\": tp\n",
        "        })\n",
        "\n",
        "        results.append(fold_results)\n",
        "\n",
        "\n",
        "    averages = pd.DataFrame(results).mean(numeric_only=True).to_dict()\n",
        "    averages[\"Fold\"] = \"Average\"\n",
        "\n",
        "    results.append(averages)\n",
        "\n",
        "    results_df = pd.DataFrame(results)\n",
        "    results_df.to_excel(file_name, index=False)\n",
        "    plot_average_confusion_matrix_heatmap(results_df)"
      ],
      "metadata": {
        "id": "22jHgr5FJ5ax"
      },
      "execution_count": null,
      "outputs": []
    },
    {
      "cell_type": "markdown",
      "source": [
        "### ANN"
      ],
      "metadata": {
        "id": "e4gvRVzuG966"
      }
    },
    {
      "cell_type": "code",
      "source": [
        "def build_ann(input_dim):\n",
        "    model = tf.keras.Sequential([\n",
        "        tf.keras.layers.Dense(32, activation='relu', input_dim=input_dim),\n",
        "        tf.keras.layers.Dense(32, activation='relu'),\n",
        "        tf.keras.layers.Dense(1, activation='sigmoid')\n",
        "    ])\n",
        "    optimizer = tf.keras.optimizers.Adam(learning_rate=0.001)\n",
        "    model.compile(optimizer=optimizer, loss='binary_crossentropy', metrics=['accuracy'])\n",
        "    return model\n",
        "\n",
        "#evaluate_dl_model(build_model_fn=lambda input_dim: build_ann(input_dim),X=data_set_attributes,y=data_set_classes,use_pca=False,  variance_threshold=0.1,epochs=20, batch_size=64 ,file_name=\"ANNRes.xlsx\")"
      ],
      "metadata": {
        "id": "zjZOokcIG_QB"
      },
      "execution_count": null,
      "outputs": []
    },
    {
      "cell_type": "markdown",
      "source": [
        "### CNN"
      ],
      "metadata": {
        "id": "8L62Iz9oASbD"
      }
    },
    {
      "cell_type": "code",
      "source": [
        "from tensorflow.keras.models import Sequential\n",
        "from tensorflow.keras.layers import Conv2D, MaxPooling2D, Flatten, Dense, Dropout,Reshape\n",
        "from tensorflow.keras.optimizers import Adam\n",
        "\n",
        "X_train_cnn = X_train.values.reshape(X_train.values.shape[0], X_train.values.shape[1], 1)\n",
        "\n",
        "def build_cnn(input_shape):\n",
        "    model = Sequential([\n",
        "        Reshape((data_set_attributes.shape[1], 1, 1), input_shape=(data_set_attributes.shape[1], 1)),\n",
        "        Conv2D(32, kernel_size=(1, 1), activation='relu'),\n",
        "        Dropout(0.3),\n",
        "        MaxPooling2D(pool_size=(1, 1)),\n",
        "        Flatten(),\n",
        "        Dense(64, activation='relu'),\n",
        "        Dense(1, activation='sigmoid')  # Binary classification\n",
        "    ])\n",
        "    model.compile(optimizer=Adam(learning_rate=0.001), loss='binary_crossentropy', metrics=['accuracy'])\n",
        "    return model\n",
        "\n",
        "\"\"\"evaluate_dl_model_with_metrics(\n",
        "    build_model_fn=lambda input_dim: build_cnn(input_dim),\n",
        "    X=X_train_cnn,\n",
        "    y=y_train,\n",
        "    use_pca=False,\n",
        "    variance_threshold=0.1,\n",
        "    epochs=20,\n",
        "    batch_size=64,\n",
        "    file_name=\"CNNPCAOn.xlsx\"\n",
        ")\"\"\""
      ],
      "metadata": {
        "colab": {
          "base_uri": "https://localhost:8080/"
        },
        "id": "xbOw4VZrAUub",
        "outputId": "5e76d245-5ed3-4d98-a7a8-0d2ff80a3bbb"
      },
      "execution_count": null,
      "outputs": [
        {
          "output_type": "execute_result",
          "data": {
            "text/plain": [
              "'evaluate_dl_model_with_metrics(\\n    build_model_fn=lambda input_dim: build_cnn(input_dim),\\n    X=X_train_cnn,\\n    y=y_train,\\n    use_pca=False,\\n    variance_threshold=0.1,\\n    epochs=20,\\n    batch_size=64,\\n    file_name=\"CNNPCAOn.xlsx\"\\n)'"
            ],
            "application/vnd.google.colaboratory.intrinsic+json": {
              "type": "string"
            }
          },
          "metadata": {},
          "execution_count": 31
        }
      ]
    },
    {
      "cell_type": "markdown",
      "source": [
        "### LSTM"
      ],
      "metadata": {
        "id": "OtGrhyJrHB64"
      }
    },
    {
      "cell_type": "code",
      "source": [
        "from tensorflow.keras.layers import LSTM, Dense, Dropout\n",
        "\n",
        "# Veriyi LSTM için yeniden şekillendirme\n",
        "X_lstm_train = X_train.values.reshape(X_train.values.shape[0], X_train.values.shape[1], 1)\n",
        "# LSTM Modeli\n",
        "def build_lstm(input_shape):\n",
        "    model = Sequential([\n",
        "        LSTM(64, return_sequences=True, input_shape=input_shape),\n",
        "        Dropout(0.3),\n",
        "        LSTM(32),\n",
        "        Dense(1, activation='sigmoid')  # Binary classification\n",
        "    ])\n",
        "    model.compile(optimizer=Adam(learning_rate=0.001), loss='binary_crossentropy', metrics=['accuracy'])\n",
        "    return model\n",
        "\n",
        "\"\"\"evaluate_dl_model_with_metrics(\n",
        "    build_model_fn=lambda input_dim: build_lstm(input_dim),\n",
        "    X=X_lstm_train,\n",
        "    y=y_train,\n",
        "    use_pca=False,\n",
        "    variance_threshold=0.1,\n",
        "    epochs=20,\n",
        "    batch_size=64,\n",
        "    file_name=\"LSTMRes.xlsx\"\n",
        ")\"\"\""
      ],
      "metadata": {
        "colab": {
          "base_uri": "https://localhost:8080/"
        },
        "id": "8yfDhk2BEZYh",
        "outputId": "6bb855fa-8639-4456-aecc-43376805ee27"
      },
      "execution_count": null,
      "outputs": [
        {
          "output_type": "execute_result",
          "data": {
            "text/plain": [
              "'evaluate_dl_model_with_metrics(\\n    build_model_fn=lambda input_dim: build_lstm(input_dim),\\n    X=X_lstm_train,\\n    y=y_train,\\n    use_pca=False,\\n    variance_threshold=0.1,\\n    epochs=20,\\n    batch_size=64,\\n    file_name=\"LSTMRes.xlsx\"\\n)'"
            ],
            "application/vnd.google.colaboratory.intrinsic+json": {
              "type": "string"
            }
          },
          "metadata": {},
          "execution_count": 32
        }
      ]
    },
    {
      "cell_type": "markdown",
      "source": [
        "### RNN\n"
      ],
      "metadata": {
        "id": "fWfiV778-wsY"
      }
    },
    {
      "cell_type": "code",
      "source": [
        "from tensorflow.keras.layers import SimpleRNN\n",
        "\n",
        "X_rnn_train = X_train.values.reshape(X_train.values.shape[0],1, X_train.values.shape[1])\n",
        "\n",
        "def build_rnn(input_shape):\n",
        "    model = Sequential([\n",
        "        SimpleRNN(50, return_sequences=True, input_shape=input_shape),\n",
        "        Dropout(0.3),\n",
        "        SimpleRNN(50),\n",
        "        Dense(1, activation='sigmoid')  # İkili sınıflandırma için\n",
        "    ])\n",
        "    model.compile(optimizer=Adam(learning_rate=0.001), loss='binary_crossentropy', metrics=['accuracy'])\n",
        "    return model"
      ],
      "metadata": {
        "id": "mthKprME-y-D"
      },
      "execution_count": null,
      "outputs": []
    },
    {
      "cell_type": "code",
      "source": [
        "evaluate_dl_model_with_metrics(\n",
        "    build_model_fn=lambda input_dim: build_rnn(input_dim),\n",
        "    X=X_rnn_train,\n",
        "    y=y_train,\n",
        "    use_pca=False,\n",
        "    variance_threshold=0.1,\n",
        "    epochs=20,\n",
        "    batch_size=64,\n",
        "    file_name=\"RNNRes.xlsx\"\n",
        ")"
      ],
      "metadata": {
        "colab": {
          "base_uri": "https://localhost:8080/"
        },
        "id": "9br2mEG4_R2n",
        "outputId": "3a2e152d-3fb0-45a4-a4de-f26744a68363"
      },
      "execution_count": null,
      "outputs": [
        {
          "output_type": "execute_result",
          "data": {
            "text/plain": [
              "'evaluate_dl_model_with_metrics(\\n    build_model_fn=lambda input_dim: build_rnn(input_dim),\\n    X=X_rnn_train,\\n    y=y_train,\\n    use_pca=False,\\n    variance_threshold=0.1,\\n    epochs=20,\\n    batch_size=64,\\n    file_name=\"RNNRes.xlsx\"\\n)'"
            ],
            "application/vnd.google.colaboratory.intrinsic+json": {
              "type": "string"
            }
          },
          "metadata": {},
          "execution_count": 34
        }
      ]
    },
    {
      "cell_type": "markdown",
      "source": [
        "### Transformer\n"
      ],
      "metadata": {
        "id": "K5yAUPq-G1og"
      }
    },
    {
      "cell_type": "code",
      "source": [
        "X_trns_train = X_train.values.reshape(X_train.values.shape[0],1, X_train.values.shape[1])\n",
        "\n",
        "def build_transformer(input_shape):\n",
        "    model = Sequential([\n",
        "        Dense(64, activation='relu', input_shape=input_shape),\n",
        "        Dense(64, activation='relu'),\n",
        "        Dense(1, activation='sigmoid')  # İkili sınıflandırma için\n",
        "    ])\n",
        "    model.compile(optimizer=Adam(learning_rate=0.001), loss='binary_crossentropy', metrics=['accuracy'])\n",
        "    return model\n",
        "\n",
        "\"\"\"evaluate_dl_model_with_metrics(\n",
        "    build_model_fn=lambda input_dim: build_rnn(input_dim),\n",
        "    X=X_trns_train,\n",
        "    y=y_train,\n",
        "    use_pca=False,\n",
        "    variance_threshold=0.1,\n",
        "    epochs=20,\n",
        "    batch_size=64,\n",
        "    file_name=\"TRNSRes.xlsx\"\n",
        ")\"\"\""
      ],
      "metadata": {
        "colab": {
          "base_uri": "https://localhost:8080/"
        },
        "id": "_v7Sq_wWG99W",
        "outputId": "d1e2fa7e-aa3b-4b41-8eb0-5231a56864c1"
      },
      "execution_count": null,
      "outputs": [
        {
          "output_type": "execute_result",
          "data": {
            "text/plain": [
              "'evaluate_dl_model_with_metrics(\\n    build_model_fn=lambda input_dim: build_rnn(input_dim),\\n    X=X_trns_train,\\n    y=y_train,\\n    use_pca=False,\\n    variance_threshold=0.1,\\n    epochs=20,\\n    batch_size=64,\\n    file_name=\"TRNSRes.xlsx\"\\n)'"
            ],
            "application/vnd.google.colaboratory.intrinsic+json": {
              "type": "string"
            }
          },
          "metadata": {},
          "execution_count": 35
        }
      ]
    },
    {
      "cell_type": "markdown",
      "source": [
        "## CPU/GPU Kullanımı\n"
      ],
      "metadata": {
        "id": "IWwafPB9PZ6p"
      }
    },
    {
      "cell_type": "code",
      "source": [
        "!nvidia-smi"
      ],
      "metadata": {
        "colab": {
          "base_uri": "https://localhost:8080/"
        },
        "id": "kjF0LknxPfYG",
        "outputId": "6f779d2a-580a-43d0-b165-2914c44a808d"
      },
      "execution_count": null,
      "outputs": [
        {
          "output_type": "stream",
          "name": "stdout",
          "text": [
            "/bin/bash: line 1: nvidia-smi: command not found\n"
          ]
        }
      ]
    }
  ]
}